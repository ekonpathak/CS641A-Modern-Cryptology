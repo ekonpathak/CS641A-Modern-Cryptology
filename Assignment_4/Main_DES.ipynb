{
 "cells": [
  {
   "cell_type": "code",
   "execution_count": 17,
   "metadata": {
    "ExecuteTime": {
     "end_time": "2022-03-10T16:18:19.620825Z",
     "start_time": "2022-03-10T16:18:17.829843Z"
    },
    "id": "0VCRxMMKHWJu"
   },
   "outputs": [],
   "source": [
    "import numpy as np"
   ]
  },
  {
   "cell_type": "code",
   "execution_count": 18,
   "metadata": {
    "ExecuteTime": {
     "end_time": "2022-03-10T16:18:19.636446Z",
     "start_time": "2022-03-10T16:18:19.624469Z"
    },
    "id": "hF3sT4_QHqiH"
   },
   "outputs": [],
   "source": [
    "# Permute function to rearrange the bits \n",
    "def permute(k, arr, n): \n",
    "    permutation = \"\" \n",
    "    for i in range(0, n): \n",
    "        permutation = permutation + k[arr[i] - 1] \n",
    "    return permutation \n",
    "  \n",
    "# shifting the bits towards left by nth shifts \n",
    "def shift(k, n): \n",
    "    return k[n:] + k[0:n]"
   ]
  },
  {
   "cell_type": "code",
   "execution_count": 19,
   "metadata": {
    "ExecuteTime": {
     "end_time": "2022-03-10T16:18:19.730181Z",
     "start_time": "2022-03-10T16:18:19.654385Z"
    },
    "id": "h4fMtImBHrLf"
   },
   "outputs": [],
   "source": [
    "# Expansion E-box Table \n",
    "E = [32, 1 , 2 , 3 , 4 , 5 , 4 , 5,  \n",
    "         6 , 7 , 8 , 9 , 8 , 9 , 10, 11,  \n",
    "         12, 13, 12, 13, 14, 15, 16, 17,  \n",
    "         16, 17, 18, 19, 20, 21, 20, 21,  \n",
    "         22, 23, 24, 25, 24, 25, 26, 27,  \n",
    "         28, 29, 28, 29, 30, 31, 32, 1 ] \n",
    "  \n",
    "#Inverse of P\n",
    "INVP = [9, 17, 23, 31,\n",
    "\t      13, 28,  2, 18,\n",
    "\t      24, 16, 30,  6,\n",
    "\t      26, 20, 10,  1,\n",
    "\t       8, 14, 25,  3,\n",
    "\t       4, 29, 11, 19,\n",
    "\t      32, 12, 22,  7,\n",
    "\t       5, 27, 15, 21\n",
    "        ]\n",
    "\n",
    "# S-box Table \n",
    "sbox = [[[14, 4, 13, 1, 2, 15, 11, 8, 3 , 10, 6, 12, 5, 9, 0, 7],\n",
    "    [0, 15, 7, 4, 14, 2, 13, 1, 10, 6, 12, 11, 9, 5, 3, 8],\n",
    "    [4, 1 , 14, 8, 13, 6, 2, 11, 15, 12, 9, 7,3, 10, 5, 0],\n",
    "    [15, 12, 8,2,4, 9, 1,7 , 5, 11, 3, 14, 10, 0, 6, 13]],\n",
    "\n",
    "    [[15, 1, 8, 14, 6, 11, 3, 4, 9, 7, 2, 13, 12, 0,5, 10],\n",
    "    [3, 13, 4, 7, 15, 2, 8, 14, 12, 0, 1, 10, 6, 9, 11, 5],\n",
    "    [0, 14, 7, 11, 10, 4, 13, 1, 5, 8,12, 6, 9, 3, 2, 15],\n",
    "    [13, 8, 10, 1, 3, 15, 4, 2,11,6, 7, 12, 0,5, 14, 9]],\n",
    "\n",
    "    [[10, 0, 9,14,6,3,15,5, 1, 13, 12, 7, 11, 4,2,8],\n",
    "    [13, 7, 0, 9, 3, 4, 6, 10, 2, 8, 5, 14, 12, 11, 15, 1],\n",
    "    [13, 6, 4, 9, 8, 15, 3, 0, 11, 1, 2, 12,5, 10, 14, 7],\n",
    "    [1, 10, 13, 0, 6, 9, 8, 7, 4, 15, 14, 3, 11, 5, 2, 12]],\n",
    "\n",
    "    [[7, 13, 14, 3, 0, 6, 9, 10, 1, 2, 8, 5, 11, 12, 4, 15],\n",
    "    [13, 8, 11, 5, 6, 15, 0, 3, 4, 7, 2, 12, 1, 10, 14, 9],\n",
    "    [10, 6, 9, 0, 12, 11, 7, 13, 15, 1 , 3, 14, 5, 2, 8, 4],\n",
    "    [3, 15, 0, 6, 10, 1, 13, 8, 9, 4, 5, 11, 12, 7, 2, 14]],\n",
    "\n",
    "    [[2, 12, 4, 1, 7, 10, 11, 6, 8, 5, 3, 15, 13, 0, 14, 9],\n",
    "    [14, 11,2, 12, 4, 7, 13, 1, 5, 0, 15, 10, 3, 9, 8, 6],\n",
    "    [4, 2, 1, 11, 10, 13, 7, 8, 15, 9, 12, 5, 6, 3, 0, 14],\n",
    "    [11, 8, 12, 7, 1, 14, 2, 13, 6, 15, 0, 9, 10, 4, 5, 3]],\n",
    "\n",
    "    [[12, 1, 10, 15, 9, 2, 6,8, 0, 13, 3, 4, 14, 7, 5, 11],\n",
    "    [10, 15, 4, 2, 7, 12, 9, 5, 6, 1, 13, 14, 0, 11, 3, 8],\n",
    "    [9, 14, 15, 5, 2,8, 12, 3, 7, 0, 4, 10, 1, 13, 11, 6],\n",
    "    [4, 3, 2, 12, 9, 5, 15, 10, 11, 14, 1, 7, 6, 0, 8, 13]],\n",
    "\n",
    "    [[4, 11, 2, 14, 15, 0, 8, 13, 3, 12, 9, 7, 5, 10, 6, 1],\n",
    "    [13, 0, 11, 7, 4, 9, 1, 10, 14, 3, 5, 12, 2, 15, 8, 6],\n",
    "    [1, 4, 11, 13, 12, 3, 7, 14, 10, 15, 6, 8, 0, 5, 9, 2],\n",
    "    [6, 11, 13, 8, 1, 4, 10, 7, 9, 5, 0, 15, 14, 2, 3, 12]],\n",
    "\n",
    "    [[13, 2, 8, 4, 6, 15, 11, 1, 10, 9, 3, 14, 5, 0, 12,7],\n",
    "    [1, 15, 13, 8, 10, 3, 7, 4, 12, 5, 6, 11, 0, 14, 9, 2],\n",
    "    [7, 11, 4, 1, 9, 12, 14, 2, 0, 6, 10, 13, 15, 3, 5, 8],\n",
    "    [2, 1, 14, 7, 4, 10, 8, 13, 15, 12, 9, 0, 3, 5, 6, 11]]] \n",
    "    \n",
    "\n",
    "\n",
    "\n",
    "f2u_mapping={'f': '0000',\n",
    "             'g': '0001',\n",
    "             'h': '0010',\n",
    "             'i': '0011',\n",
    "             'j': '0100',\n",
    "             'k': '0101',\n",
    "             'l': '0110',\n",
    "             'm': '0111',\n",
    "             'n': '1000',\n",
    "             'o': '1001',\n",
    "             'p': '1010',\n",
    "             'q': '1011',\n",
    "             'r': '1100',\n",
    "             's': '1101',\n",
    "             't': '1110',\n",
    "             'u': '1111'}\n",
    "     \n",
    "## Key Schedule\n",
    "PC2 = [                 \n",
    "  14, 17, 11, 24,  1, 5, \n",
    "  3, 28 ,15,  6, 21, 10, \n",
    "  23, 19, 12,  4, 26, 8, \n",
    "  16,  7, 27, 20, 13, 2, \n",
    "  41, 52, 31, 37, 47, 55, \n",
    "  30, 40, 51, 45, 33, 48, \n",
    "  44, 49, 39, 56, 34, 53, \n",
    "  46, 42, 50, 36, 29, 32\n",
    "]\n",
    "\n",
    "## Reverse Final Permutation\n",
    "RFP = [57, 49, 41, 33, 25, 17, 9,  1,\n",
    "       59, 51, 43, 35, 27, 19, 11, 3,\n",
    "       61, 53, 45, 37, 29, 21, 13, 5,\n",
    "       63, 55, 47, 39, 31, 23, 15, 7,\n",
    "       58, 50, 42, 34, 26, 18, 10, 2,\n",
    "       60, 52, 44, 36, 28, 20, 12, 4,\n",
    "       62, 54, 46, 38, 30, 22, 14, 6,\n",
    "       64, 56, 48, 40, 32, 24, 16, 8]\n",
    "\n",
    "#shift table \n",
    "shift_table = [1, 1, 2, 2,  \n",
    "                2, 2, 2, 2,  \n",
    "                1, 2, 2, 2,  \n",
    "                2, 2, 2, 1 ] \n",
    "  \n",
    "# Key- Compression Table : Compression of key from 56 bits to 48 bits \n",
    "key_comp = [14, 17, 11, 24, 1, 5,  \n",
    "            3, 28, 15, 6, 21, 10,  \n",
    "            23, 19, 12, 4, 26, 8,  \n",
    "            16, 7, 27, 20, 13, 2,  \n",
    "            41, 52, 31, 37, 47, 55,  \n",
    "            30, 40, 51, 45, 33, 48,  \n",
    "            44, 49, 39, 56, 34, 53,  \n",
    "            46, 42, 50, 36, 29, 32 ] \n",
    "  \n",
    "\n",
    "mapping = {\n",
    "           'f' : [0,0,0,0],\n",
    "           'g' : [0,0,0,1],\n",
    "           'h' : [0,0,1,0],\n",
    "           'i' : [0,0,1,1],\n",
    "           'j' : [0,1,0,0],\n",
    "           'k' : [0,1,0,1],\n",
    "           'l' : [0,1,1,0],\n",
    "           'm' : [0,1,1,1],\n",
    "           'n' : [1,0,0,0],\n",
    "           'o' : [1,0,0,1],\n",
    "           'p' : [1,0,1,0],\n",
    "           'q' : [1,0,1,1],\n",
    "           'r' : [1,1,0,0],\n",
    "           's' : [1,1,0,1],\n",
    "           't' : [1,1,1,0],\n",
    "           'u' : [1,1,1,1]\n",
    "          }\n",
    "\n",
    "# Permutation at start of DES\n",
    "initial_perm = [58, 50, 42, 34, 26, 18, 10, 2,  \n",
    "                60, 52, 44, 36, 28, 20, 12, 4,  \n",
    "                62, 54, 46, 38, 30, 22, 14, 6,  \n",
    "                64, 56, 48, 40, 32, 24, 16, 8,  \n",
    "                57, 49, 41, 33, 25, 17, 9, 1,  \n",
    "                59, 51, 43, 35, 27, 19, 11, 3,  \n",
    "                61, 53, 45, 37, 29, 21, 13, 5,  \n",
    "                63, 55, 47, 39, 31, 23, 15, 7]\n",
    "\n",
    "## S Box Permutation Table\n",
    "sboxper = [ 16,  7, 20, 21, \n",
    "        29, 12, 28, 17,  \n",
    "         1, 15, 23, 26,  \n",
    "         5, 18, 31, 10,  \n",
    "         2,  8, 24, 14,  \n",
    "        32, 27,  3,  9,  \n",
    "        19, 13, 30,  6,  \n",
    "        22, 11,  4, 25 ] \n",
    "        \n",
    "## Permutation at the end of DES\n",
    "final_perm = [ 40, 8, 48, 16, 56, 24, 64, 32,  \n",
    "               39, 7, 47, 15, 55, 23, 63, 31,  \n",
    "               38, 6, 46, 14, 54, 22, 62, 30,  \n",
    "               37, 5, 45, 13, 53, 21, 61, 29,  \n",
    "               36, 4, 44, 12, 52, 20, 60, 28,  \n",
    "               35, 3, 43, 11, 51, 19, 59, 27,  \n",
    "               34, 2, 42, 10, 50, 18, 58, 26,  \n",
    "               33, 1, 41, 9, 49, 17, 57, 25 ] "
   ]
  },
  {
   "cell_type": "code",
   "execution_count": 20,
   "metadata": {
    "ExecuteTime": {
     "end_time": "2022-03-10T16:18:23.899238Z",
     "start_time": "2022-03-10T16:18:19.735169Z"
    },
    "colab": {
     "base_uri": "https://localhost:8080/"
    },
    "id": "rGQG2NeDIIEq",
    "outputId": "334a442f-15f1-4bde-cdc1-0cc08d706cb5"
   },
   "outputs": [
    {
     "name": "stdout",
     "output_type": "stream",
     "text": [
      "[[161. 191. 174. 144. 189. 160. 153. 167. 168. 179. 175. 163. 174. 160.\n",
      "  157. 181. 160. 165. 170. 163. 161. 151. 149. 176. 148. 187. 157. 172.\n",
      "  170. 170. 151. 151. 149. 163. 169. 170. 166. 165. 170. 157. 171. 173.\n",
      "  157. 187. 163. 174. 199. 164. 183. 174. 154. 149. 135. 165. 174. 139.\n",
      "  189. 174. 149. 172. 177. 316. 163. 169.]\n",
      " [194. 167. 176. 203. 159. 177. 193. 171. 186. 158. 167. 169. 178. 200.\n",
      "  194. 150. 151. 179. 175. 225. 153. 173. 194. 172. 164. 149. 170. 174.\n",
      "  173. 183. 164. 163. 192. 157. 183. 191. 173. 170. 193. 210. 177. 156.\n",
      "  147. 172. 179. 158. 188. 183. 172. 221. 182. 771. 175. 211. 163. 231.\n",
      "  160. 180. 191. 185. 160. 182. 169. 204.]\n",
      " [166. 165. 153. 168. 154. 183. 173. 165. 158. 178. 164. 157. 173. 179.\n",
      "  151. 158. 168. 170. 165. 144. 160. 161. 188. 158. 161. 167. 170. 153.\n",
      "  183. 197. 165. 158. 178. 178. 180. 188. 168. 320. 167. 170. 167. 161.\n",
      "  167. 156. 137. 179. 162. 172. 158. 160. 160. 161. 158. 157. 162. 171.\n",
      "  154. 184. 156. 168. 175. 171. 175. 161.]\n",
      " [179. 178. 216. 170. 167. 176. 180. 289. 153. 188. 177. 164. 159. 158.\n",
      "  161. 142. 160. 159. 181. 186. 164. 175. 176. 150. 155. 169. 174. 161.\n",
      "  163. 168. 165. 180. 151. 165. 154. 167. 165. 154. 156. 174. 235. 187.\n",
      "  175. 151. 177. 185. 169. 162. 149. 160. 157. 161. 139. 161. 153. 139.\n",
      "  152. 171. 171. 177. 157. 140. 161. 180.]\n",
      " [154. 179. 184. 170. 175. 165. 177. 160. 145. 164. 166. 167. 167. 165.\n",
      "  156. 177. 184. 397. 170. 175. 197. 174. 173. 183. 172. 171. 154. 147.\n",
      "  193. 173. 161. 145. 173. 173. 177. 152. 198. 183. 174. 172. 171. 189.\n",
      "  169. 180. 190. 172. 172. 159. 182. 173. 178. 175. 182. 176. 179. 171.\n",
      "  175. 147. 164. 159. 148. 156. 165. 156.]\n",
      " [196. 194. 165. 165. 185. 185. 208. 183. 171. 180. 190. 185. 164. 179.\n",
      "  171. 188. 195. 177. 196. 195. 193. 198. 762. 238. 174. 183. 204. 202.\n",
      "  171. 192. 194. 169. 203. 196. 201. 183. 174. 184. 188. 196. 194. 161.\n",
      "  195. 175. 189. 188. 219. 179. 177. 171. 204. 181. 208. 177. 200. 168.\n",
      "  162. 184. 159. 158. 188. 202. 171. 191.]\n",
      " [170. 180. 192. 182. 186. 182. 176. 156. 198. 169. 197. 176. 181. 179.\n",
      "  192. 161. 206. 165. 173. 177. 183. 169. 193. 179. 201. 200. 175. 185.\n",
      "  499. 197. 193. 155. 203. 173. 168. 192. 187. 171. 194. 178. 197. 207.\n",
      "  170. 171. 165. 177. 155. 202. 163. 167. 184. 156. 182. 152. 170. 195.\n",
      "  172. 181. 156. 180. 210. 173. 207. 167.]\n",
      " [173. 172. 188. 174. 182. 172. 179. 170. 154. 176. 180. 168. 159. 146.\n",
      "  162. 167. 165. 186. 162. 178. 207. 202. 159. 170. 173. 177. 156. 157.\n",
      "  192. 174. 192. 160. 169. 162. 188. 182. 198. 137. 162. 166. 181. 179.\n",
      "  169. 195. 166. 153. 187. 167. 197. 167. 169. 198. 475. 204. 201. 161.\n",
      "  196. 161. 165. 168. 204. 179. 192. 176.]]\n"
     ]
    }
   ],
   "source": [
    "#Computing XORs at IN and OUT of S-boxes for characteristic 40 08 00 00 04 00 00 00\n",
    "\n",
    "\n",
    "ciphertext = open('ciphertext_set1.txt').read().split(\"\\n\")\n",
    "\n",
    "hexcipher =[]\n",
    "for c in ciphertext:\n",
    "  h=[]\n",
    "  if len(c) == 16:\n",
    "    for i in range(16):\n",
    "      h.extend(mapping[c[i]])\n",
    "    hexcipher.extend([h])\n",
    "\n",
    "\n",
    "##Inverse the final permutation\n",
    "\n",
    "invres = []\n",
    "for c in hexcipher:\n",
    "  temp=[]\n",
    "  for i in range(64):\n",
    "    temp.extend([c[RFP[i]-1]])\n",
    "\n",
    "  invres.extend([temp])\n",
    "\n",
    "\n",
    "##Xoring the ciphertext pairs according to differential\n",
    "\n",
    "resxor = []\n",
    "for i in range(0,len(invres)//2):\n",
    "  resxor.extend([list(np.bitwise_xor(invres[2*i],invres[2*i+1]))])\n",
    "\n",
    "##Expanding Right side block of Round 5\n",
    "\n",
    "expanded = []\n",
    "\n",
    "for i in range(0,len(invres)):\n",
    "  temp = []\n",
    "  for j in range(48):\n",
    "    temp.extend([invres[i][E[j]-1]])\n",
    "\n",
    "  expanded.extend([temp])\n",
    "\n",
    "##Xoring expanded to compute s box input\n",
    "\n",
    "sin = []\n",
    "for i in range(0,len(expanded)//2):\n",
    "  sin.extend([list(np.bitwise_xor(expanded[2*i],expanded[2*i+1]))])\n",
    "\n",
    "##Xoring L5 and R6\n",
    "\n",
    "L5 = [0,0,0,0,0,1]+[0]*26\n",
    "inxor = []\n",
    "for i in resxor:\n",
    "  inxor.extend([list(np.bitwise_xor(i[32:64],L5))])\n",
    "\n",
    "##Xoring sbox outputs\n",
    "\n",
    "sxor =[]\n",
    "for i in inxor:\n",
    "  temp = []\n",
    "  for j in range(32):\n",
    "    temp.extend([i[INVP[j]-1]])\n",
    "  sxor.extend([temp])\n",
    "\n",
    "##Finding the Keys  corresponding to Round 6 for above charcateristic\n",
    "\n",
    "keys = np.zeros((8,64))\n",
    "\n",
    "for i in range(len(sin)):\n",
    "  if sin[i]==\"\":\n",
    "        continue \n",
    "  for j in range(0,8):\n",
    "    inx = int(''.join([str(s) for s in sin[i][j*6:j*6+6]]),2)\n",
    "    outx = int(''.join([str(s) for s in sxor[i][j*4:j*4+4]]),2)\n",
    "    inp = int(''.join([str(s) for s in expanded[2*i+1][j*6:j*6+6]]),2)\n",
    " \n",
    "    for k in range(0,64):\n",
    "      a = bin(k)[2:].zfill(6)\n",
    "      b = bin(k^inx)[2:].zfill(6)\n",
    "      if outx == sbox[j][int(a[0])*2 + int(a[5])][int(a[4]) + 2 *int(a[3]) + int(a[2]) * 4 + int(a[1])*8]^sbox[j][int(b[0])*2 + int(b[5])][int(b[4]) + 2 *int(b[3]) + int(b[2]) * 4 + int(b[1])*8]:\n",
    "        keys[j][k^inp]+=1\n",
    "  \n",
    " \n",
    "print(keys)"
   ]
  },
  {
   "cell_type": "code",
   "execution_count": 21,
   "metadata": {
    "ExecuteTime": {
     "end_time": "2022-03-10T16:18:23.947123Z",
     "start_time": "2022-03-10T16:18:23.906219Z"
    },
    "colab": {
     "base_uri": "https://localhost:8080/"
    },
    "id": "kgKwT-c6XkZk",
    "outputId": "a1f0fd26-7b4d-4039-8ee2-35823e28808e"
   },
   "outputs": [
    {
     "name": "stdout",
     "output_type": "stream",
     "text": [
      "S-box\tMax\tMean\tKey\n",
      "S1\t316.0\t168\t61\n",
      "S2\t771.0\t187\t51\n",
      "S3\t320.0\t168\t37\n",
      "S4\t289.0\t168\t7\n",
      "S5\t397.0\t173\t17\n",
      "S6\t762.0\t194\t22\n",
      "S7\t499.0\t185\t28\n",
      "S8\t475.0\t179\t52\n"
     ]
    }
   ],
   "source": [
    "maxval = [] \n",
    "mean = [] \n",
    "keyval = [] \n",
    "for i in range(len(keys)):     \n",
    "  mean.append(int(keys[i].mean()))     \n",
    "  current = max(keys[i])     \n",
    "  maxval.append(current)     \n",
    "  keyval.append(np.where(keys[i]==current)[0][0]) \n",
    "\n",
    "print(\"S-box\"+ \"\\t\" +\"Max\" + \"\\t\" + \"Mean\" + \"\\t\" + \"Key\") \n",
    "for i in range(0,8):     \n",
    "  print(\"S\"+ str(i+1) +\"\\t\"+ str(maxval[i]) + \"\\t\" + str(mean[i]) + \"\\t\" + str(keyval[i]))"
   ]
  },
  {
   "cell_type": "code",
   "execution_count": 22,
   "metadata": {
    "ExecuteTime": {
     "end_time": "2022-03-10T16:18:28.271132Z",
     "start_time": "2022-03-10T16:18:23.961642Z"
    },
    "colab": {
     "base_uri": "https://localhost:8080/"
    },
    "id": "cDJb6bqpdGhD",
    "outputId": "9352ed3f-f9e9-45b1-c740-8dab88128974"
   },
   "outputs": [
    {
     "name": "stdout",
     "output_type": "stream",
     "text": [
      "[[169. 187. 166. 175. 185. 173. 156. 184. 196. 208. 180. 180. 202. 188.\n",
      "  156. 161. 186. 173. 162. 186. 207. 173. 182. 170. 162. 168. 184. 175.\n",
      "  181. 199. 178. 175. 173. 166. 182. 185. 176. 164. 150. 185. 190. 173.\n",
      "  201. 170. 161. 169. 183. 154. 178. 160. 188. 167. 167. 188. 168. 175.\n",
      "  185. 178. 168. 165. 186. 382. 167. 161.]\n",
      " [176. 181. 167. 184. 180. 170. 173. 173. 156. 168. 163. 181. 169. 187.\n",
      "  203. 178. 153. 147. 187. 166. 156. 188. 157. 183. 174. 155. 180. 181.\n",
      "  174. 185. 186. 183. 171. 167. 185. 165. 162. 163. 182. 194. 174. 172.\n",
      "  155. 176. 161. 177. 170. 177. 157. 187. 201. 401. 144. 165. 159. 175.\n",
      "  179. 178. 180. 165. 187. 175. 168. 182.]\n",
      " [153. 187. 148. 183. 149. 178. 164. 170. 175. 158. 180. 160. 157. 180.\n",
      "  138. 151. 180. 187. 185. 159. 158. 164. 155. 173. 156. 159. 168. 157.\n",
      "  160. 172. 166. 179. 135. 148. 172. 170. 155. 341. 164. 177. 145. 183.\n",
      "  169. 158. 155. 179. 148. 176. 150. 180. 183. 148. 160. 209. 164. 178.\n",
      "  160. 172. 166. 160. 137. 173. 175. 161.]\n",
      " [193. 210. 197. 185. 191. 184. 285. 780. 182. 156. 174. 187. 232. 175.\n",
      "  168. 223. 204. 209. 176. 212. 188. 214. 201. 211. 224. 187. 177. 192.\n",
      "  187. 175. 192. 195. 174. 205. 192. 175. 174. 186. 178. 236. 270. 272.\n",
      "  182. 158. 207. 221. 185. 212. 188. 191. 191. 195. 191. 202. 191. 154.\n",
      "  187. 208. 186. 181. 215. 195. 195. 199.]\n",
      " [180. 149. 157. 179. 175. 157. 151. 155. 160. 176. 168. 180. 170. 157.\n",
      "  188. 179. 177. 435. 156. 172. 185. 163. 162. 171. 141. 174. 165. 187.\n",
      "  182. 168. 183. 155. 192. 157. 175. 166. 173. 161. 186. 179. 160. 153.\n",
      "  155. 162. 165. 165. 155. 181. 167. 178. 194. 183. 170. 172. 172. 187.\n",
      "  158. 156. 157. 186. 151. 159. 177. 181.]\n",
      " [186. 200. 159. 169. 188. 213. 188. 158. 183. 172. 178. 166. 177. 188.\n",
      "  157. 164. 192. 196. 200. 174. 187. 168. 765. 202. 185. 165. 229. 182.\n",
      "  182. 177. 220. 177. 202. 184. 191. 181. 181. 168. 201. 196. 179. 174.\n",
      "  222. 183. 167. 209. 199. 168. 164. 183. 185. 179. 201. 187. 194. 176.\n",
      "  200. 176. 172. 158. 177. 206. 159. 171.]\n",
      " [159. 166. 170. 160. 195. 186. 164. 162. 161. 157. 167. 157. 167. 146.\n",
      "  190. 171. 185. 168. 178. 159. 174. 191. 175. 169. 157. 162. 155. 178.\n",
      "  287. 178. 158. 157. 175. 188. 164. 170. 172. 150. 169. 164. 159. 169.\n",
      "  168. 151. 163. 153. 140. 168. 170. 181. 195. 177. 152. 169. 174. 166.\n",
      "  147. 140. 162. 143. 173. 151. 182. 168.]\n",
      " [161. 177. 175. 159. 162. 158. 166. 170. 172. 164. 153. 173. 162. 179.\n",
      "  151. 133. 141. 147. 166. 154. 188. 170. 168. 170. 146. 144. 156. 163.\n",
      "  148. 169. 187. 156. 174. 168. 164. 161. 160. 141. 135. 141. 148. 168.\n",
      "  152. 159. 160. 167. 176. 159. 170. 168. 153. 160. 270. 172. 188. 173.\n",
      "  152. 165. 151. 167. 132. 156. 179. 171.]]\n"
     ]
    }
   ],
   "source": [
    "#Computing XORs at IN and OUT of S-boxes for characteristic 40 08 00 00 04 00 00 00\n",
    "\n",
    "\n",
    "\n",
    "ciphertext = open('ciphertext_set2.txt').read().split(\"\\n\")\n",
    "\n",
    "hexcipher =[]\n",
    "for c in ciphertext:\n",
    "  h=[]\n",
    "  if len(c) == 16:\n",
    "    for i in range(16):\n",
    "      h.extend(mapping[c[i]])\n",
    "    hexcipher.extend([h])\n",
    "\n",
    "##Inverse the final permutation\n",
    "\n",
    "invres = []\n",
    "for c in hexcipher:\n",
    "  temp=[]\n",
    "  for i in range(64):\n",
    "    temp.extend([c[RFP[i]-1]])\n",
    "  invres.extend([temp])\n",
    "\n",
    "\n",
    "##Xoring the ciphertext pairs according to differential\n",
    "\n",
    "resxor = []\n",
    "for i in range(0,len(invres)-1,2):\n",
    "  resxor.extend([list(np.bitwise_xor(invres[i],invres[i+1]))])\n",
    "\n",
    "\n",
    "##Expanding Right side block of Round 5\n",
    "\n",
    "expanded = []\n",
    "\n",
    "for i in invres:\n",
    "  temp = []\n",
    "  for j in range(48):\n",
    "    temp.extend([i[E[j]-1]])\n",
    "  expanded.extend([temp])\n",
    "\n",
    "##Xoring expanded to compute s box input\n",
    "\n",
    "sin = []\n",
    "for i in range(0,len(expanded)-1,2):\n",
    "  sin.extend([list(np.bitwise_xor(expanded[i],expanded[i+1]))])\n",
    "\n",
    "##Xoring L5 and R6\n",
    "\n",
    "L5 = [0,0,0,0,0,0,0,0,0,0,0,0,0,0,0,0,0,0,0,0,0,1,0,0,0,0,0,0,0,0,0,0]\n",
    "inxor = []\n",
    "for i in resxor:\n",
    "  inxor.extend([list(np.bitwise_xor(i[32:64],L5))])\n",
    "\n",
    "##Xoring sbox outputs\n",
    "\n",
    "sxor =[]\n",
    "for i in inxor:\n",
    "  temp = []\n",
    "  for j in range(32):\n",
    "    temp.extend([i[INVP[j]-1]])\n",
    "  sxor.extend([temp])\n",
    "\n",
    "##Finding the Keys  corresponding to Round 6 for above charcateristic\n",
    "\n",
    "keys = np.zeros((8,64))\n",
    "\n",
    "for i in range(len(sin)):\n",
    "  for j in range(0,8):\n",
    "    inx = int(''.join([str(s) for s in sin[i][j*6:j*6+6]]),2)\n",
    "    outx = int(''.join([str(s) for s in sxor[i][j*4:j*4+4]]),2)\n",
    "    inp = int(''.join([str(s) for s in expanded[2*i+1][j*6:j*6+6]]),2)\n",
    "\n",
    "    for k in range(0,64):\n",
    "      a = bin(k)[2:].zfill(6)\n",
    "      b = bin(k^inx)[2:].zfill(6)\n",
    "      if outx == sbox[j][int(a[0])*2 + int(a[5])][int(a[4]) + 2 *int(a[3]) + int(a[2]) * 4 + int(a[1])*8]^sbox[j][int(b[0])*2 + int(b[5])][int(b[4]) + 2 *int(b[3]) + int(b[2]) * 4 + int(b[1])*8]:\n",
    "        keys[j][k^inp]+=1\n",
    " \n",
    "print(keys)"
   ]
  },
  {
   "cell_type": "code",
   "execution_count": 23,
   "metadata": {
    "ExecuteTime": {
     "end_time": "2022-03-10T16:18:28.287092Z",
     "start_time": "2022-03-10T16:18:28.273127Z"
    },
    "colab": {
     "base_uri": "https://localhost:8080/"
    },
    "id": "nWfnWJ9edaNE",
    "outputId": "a47aedb1-c913-46b4-cf2d-f770db390075"
   },
   "outputs": [
    {
     "name": "stdout",
     "output_type": "stream",
     "text": [
      "S-box\tMax\tMean\tKey\n",
      "S1\t382.0\t179\t61\n",
      "S2\t401.0\t176\t51\n",
      "S3\t341.0\t168\t37\n",
      "S4\t780.0\t205\t7\n",
      "S5\t435.0\t173\t17\n",
      "S6\t765.0\t192\t22\n",
      "S7\t287.0\t168\t28\n",
      "S8\t270.0\t163\t52\n"
     ]
    }
   ],
   "source": [
    "maxval = [] \n",
    "mean = [] \n",
    "keyval = [] \n",
    "for i in range(len(keys)):     \n",
    "  mean.append(int(keys[i].mean()))     \n",
    "  current = max(keys[i])     \n",
    "  maxval.append(current)     \n",
    "  keyval.append(np.where(keys[i]==current)[0][0]) \n",
    "\n",
    "print(\"S-box\"+ \"\\t\" +\"Max\" + \"\\t\" + \"Mean\" + \"\\t\" + \"Key\") \n",
    "for i in range(0,8):     \n",
    "  print(\"S\"+ str(i+1) +\"\\t\"+ str(maxval[i]) + \"\\t\" + str(mean[i]) + \"\\t\" + str(keyval[i]))"
   ]
  },
  {
   "cell_type": "code",
   "execution_count": 25,
   "metadata": {
    "ExecuteTime": {
     "end_time": "2022-03-10T16:18:28.319008Z",
     "start_time": "2022-03-10T16:18:28.293075Z"
    },
    "colab": {
     "base_uri": "https://localhost:8080/"
    },
    "id": "YfAB7ROL735d",
    "outputId": "7fad0010-d6a1-4407-d1e7-152ba1a1f32c"
   },
   "outputs": [
    {
     "name": "stdout",
     "output_type": "stream",
     "text": [
      "X11XX1XX01011X100XX11X11001X0010010X11000010X10X1101X011\n"
     ]
    }
   ],
   "source": [
    "## Finding the Key\n",
    "\n",
    "#sbkey = \"111101110011XXXXXX000111010001010110011100110100\" ##Obtained by converting key value to binary for each sbox 1 to 8 except 3 for which 'XXXXXX' is appended as input to sbox 3 is never 0\n",
    "sbkey = \"111101110011XXXXXX000111010001010110011100110100\"\n",
    "key = ['X']*56\n",
    " \n",
    "for i in range(48):\n",
    "  key[PC2[i]-1] = sbkey[i]\n",
    "\n",
    "for i in range(0,6):\n",
    "  for j in range(shift_table[i]):\n",
    "    x = key[27]\n",
    "    y = key[55]\n",
    "\n",
    "    for k in range(27,0,-1):\n",
    "      key[k] = key[k-1]\n",
    "      key[k+28] = key[k+27]\n",
    "\n",
    "    key[0] = x\n",
    "    key[28] = y\n",
    "\n",
    "print(''.join(key))\n",
    "miskey = ''.join(key)"
   ]
  },
  {
   "cell_type": "markdown",
   "metadata": {
    "id": "Pr0ILhLd-nA_"
   },
   "source": [
    "Using Brute Force Method to find mising 14 bits of key"
   ]
  },
  {
   "cell_type": "code",
   "execution_count": 26,
   "metadata": {
    "ExecuteTime": {
     "end_time": "2022-03-10T16:18:28.728911Z",
     "start_time": "2022-03-10T16:18:28.323996Z"
    },
    "id": "WX0HMhoD-tm4"
   },
   "outputs": [],
   "source": [
    "\n",
    "poskey = []\n",
    "binlist = []\n",
    "for i in range(2**14):\n",
    "  x = str(bin(i)[2:])\n",
    "  binlist.append(('0')*(14-len(x))+x)\n",
    "\n",
    "for i in binlist:\n",
    "  j = 0\n",
    "  tempkey = list(miskey)\n",
    "  for k in range(len(tempkey)):\n",
    "    if tempkey[k] == 'X':\n",
    "      tempkey[k] = i[j]\n",
    "      j+=1\n",
    "  poskey.append(''.join(tempkey))\n",
    "\n",
    "\n",
    "\n",
    "def roundkey(k,rno):\n",
    "  left = k[0:28]\n",
    "  right = k[28:56]\n",
    "\n",
    "  binkey = []\n",
    "\n",
    "  for i in range(rno):\n",
    "    left = shift(left,shift_table[i])\n",
    "    right = shift(right,shift_table[i])\n",
    "\n",
    "    key = left + right\n",
    "\n",
    "    binkey.extend([permute(key,key_comp,48)])\n",
    "\n",
    "  return binkey\n",
    "\n",
    "\n",
    "def encryption(mess,key,rno):\n",
    "\n",
    "  mess = permute(mess,initial_perm,64)\n",
    "\n",
    "  left = mess[:32]\n",
    "  right = mess[32:]\n",
    "\n",
    "  for i in range(rno):\n",
    "   ## print(i)\n",
    "    ##if(i==4):\n",
    "      ##print(right,left)\n",
    "    expmess = permute(right,E,48)\n",
    "   ## print(int(expmess,2),int(key[i],2))\n",
    "    inxor = str(bin(np.bitwise_xor(int(expmess,2),int(key[i],2)))[2:])\n",
    "    if(len(inxor)!=48):\n",
    "      inxor= ('0'*(48-len(inxor)))+inxor\n",
    "    ##print(inxor,len(inxor))\n",
    "    ##Computing Sbox output for inxor\n",
    "    sout = ''\n",
    "    for j in range(8):\n",
    "      temp = (bin(sbox[j][int(inxor[j*6]+inxor[j*6+5],2)][int(inxor[j*6+1:j*6+5],2)])[2:])\n",
    "      sout+= ('0'*(4-len(temp))+temp)\n",
    "    sout = permute(sout,sboxper,32)\n",
    "\n",
    "    roundxor = str(bin(np.bitwise_xor(int(left,2),int(sout,2)))[2:])\n",
    "    # if(i==3):\n",
    "    #   print(roundxor,len(roundxor))\n",
    "    if(len(roundxor)!=32):\n",
    "      roundxor= ('0'*(32-len(roundxor)))+roundxor\n",
    "    left = roundxor\n",
    "\n",
    "    if(i!=5):\n",
    "      t = left\n",
    "      left = right\n",
    "      right = t\n",
    "\n",
    "    \n",
    "  outmess = left + right\n",
    "  cipher = permute(outmess,final_perm,64)\n",
    "\n",
    "  return cipher\n"
   ]
  },
  {
   "cell_type": "code",
   "execution_count": 27,
   "metadata": {
    "ExecuteTime": {
     "end_time": "2022-03-10T16:18:30.284350Z",
     "start_time": "2022-03-10T16:18:28.730904Z"
    },
    "colab": {
     "base_uri": "https://localhost:8080/"
    },
    "id": "6rpKAIciHowg",
    "outputId": "09791103-52ab-4bf9-f02d-1e9cb66d77e1"
   },
   "outputs": [
    {
     "name": "stdout",
     "output_type": "stream",
     "text": [
      "The key is 01101110010111100111101100100010010011000010110111011011 \n",
      "\n",
      "Round 0 key is 111011000100111110000111010111101111110000010100\n",
      "Round 1 key is 011011110011011101100010100010001001100001101111\n",
      "Round 2 key is 111010101101110011101101110001101111111010110000\n",
      "Round 3 key is 110110011110001101011010001110010000111101111001\n",
      "Round 4 key is 001001001101111110111011100110111101100000010010\n",
      "Round 5 key is 111101110011100101000111010001010110011100110100\n"
     ]
    }
   ],
   "source": [
    "mainkey = ''\n",
    "binplain = ''\n",
    "for i in 'nqolqfukokuklhks':\n",
    "  binplain+= f2u_mapping[i]\n",
    "\n",
    "bincipher = ''\n",
    "for i in \"hujjrgqqosmftfhg\":\n",
    "  bincipher+=f2u_mapping[i]\n",
    "\n",
    "for k in poskey:\n",
    "  key = roundkey(k,6)\n",
    "  if(encryption(binplain,key,6)== bincipher):\n",
    "    mainkey = k\n",
    "    print('The key is',k,'\\n')\n",
    "    for i in range(6):\n",
    "      print('Round',i,'key is',key[i])\n",
    "    \n",
    "    break\n"
   ]
  },
  {
   "cell_type": "code",
   "execution_count": 28,
   "metadata": {
    "ExecuteTime": {
     "end_time": "2022-03-10T16:18:30.300308Z",
     "start_time": "2022-03-10T16:18:30.286344Z"
    },
    "colab": {
     "base_uri": "https://localhost:8080/"
    },
    "id": "CzR_LLWrSshU",
    "outputId": "3c8eb56d-3ebb-4dff-fabc-6c65bcd604e7"
   },
   "outputs": [
    {
     "name": "stdout",
     "output_type": "stream",
     "text": [
      "0,1,1,0,1,1,1,0,0,1,0,1,1,1,1,0,0,1,1,1,1,0,1,1,0,0,1,0,0,0,1,0,0,1,0,0,1,1,0,0,0,0,1,0,1,1,0,1,1,1,0,1,1,0,1,1,"
     ]
    }
   ],
   "source": [
    "## seperate key into comma seperated\n",
    "\n",
    "for i in mainkey:\n",
    "    print(i+',',end='')"
   ]
  },
  {
   "cell_type": "code",
   "execution_count": 29,
   "metadata": {
    "ExecuteTime": {
     "end_time": "2022-03-10T16:18:30.331237Z",
     "start_time": "2022-03-10T16:18:30.304297Z"
    },
    "colab": {
     "base_uri": "https://localhost:8080/"
    },
    "id": "wRFh635gTDg1",
    "outputId": "d778f57d-19db-4224-e0a7-cc4124b0dccb"
   },
   "outputs": [
    {
     "name": "stdout",
     "output_type": "stream",
     "text": [
      "tg 225\n",
      "fh 2\n",
      "pl 166\n",
      "ir 60\n",
      "hm 39\n",
      "up 250\n",
      "pf 160\n",
      "np 138\n",
      "fu 15\n",
      "oq 155\n",
      "rl 198\n",
      "pr 172\n",
      "ul 246\n",
      "gm 23\n",
      "pn 168\n",
      "pg 161\n"
     ]
    }
   ],
   "source": [
    "## Convert main cipher text to decimal values\n",
    "\n",
    "# password = 'leohimkjkshooerdqqngsgmnjjmjpfdm'\n",
    "password = \"tgfhplirhmuppfnpfuoqrlprulgmpnpg\"\n",
    "for i in range(0,len(password),2):\n",
    "    a = f2u_mapping[password[i]]+f2u_mapping[password[i+1]]\n",
    "    b = int(a,2)\n",
    "    print(password[i:i+2],b)"
   ]
  },
  {
   "cell_type": "code",
   "execution_count": 58,
   "metadata": {
    "id": "ngRfY3U41M_2"
   },
   "outputs": [
    {
     "data": {
      "text/plain": [
       "1"
      ]
     },
     "execution_count": 58,
     "metadata": {},
     "output_type": "execute_result"
    }
   ],
   "source": [
    "1"
   ]
  }
 ],
 "metadata": {
  "colab": {
   "provenance": []
  },
  "kernelspec": {
   "display_name": "Python 3",
   "language": "python",
   "name": "python3"
  },
  "language_info": {
   "codemirror_mode": {
    "name": "ipython",
    "version": 3
   },
   "file_extension": ".py",
   "mimetype": "text/x-python",
   "name": "python",
   "nbconvert_exporter": "python",
   "pygments_lexer": "ipython3",
   "version": "3.11.0"
  },
  "varInspector": {
   "cols": {
    "lenName": 16,
    "lenType": 16,
    "lenVar": 40
   },
   "kernels_config": {
    "python": {
     "delete_cmd_postfix": "",
     "delete_cmd_prefix": "del ",
     "library": "var_list.py",
     "varRefreshCmd": "print(var_dic_list())"
    },
    "r": {
     "delete_cmd_postfix": ") ",
     "delete_cmd_prefix": "rm(",
     "library": "var_list.r",
     "varRefreshCmd": "cat(var_dic_list()) "
    }
   },
   "types_to_exclude": [
    "module",
    "function",
    "builtin_function_or_method",
    "instance",
    "_Feature"
   ],
   "window_display": false
  },
  "vscode": {
   "interpreter": {
    "hash": "aee8b7b246df8f9039afb4144a1f6fd8d2ca17a180786b69acc140d282b71a49"
   }
  }
 },
 "nbformat": 4,
 "nbformat_minor": 1
}
