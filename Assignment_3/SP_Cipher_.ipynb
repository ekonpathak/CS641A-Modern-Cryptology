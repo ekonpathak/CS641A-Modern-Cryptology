{
 "cells": [
  {
   "cell_type": "markdown",
   "id": "b43cb2ac",
   "metadata": {},
   "source": [
    "# PROGRAM FOR SP BLOCK CIPHER"
   ]
  },
  {
   "cell_type": "code",
   "execution_count": 64,
   "id": "b5f4f78a",
   "metadata": {},
   "outputs": [],
   "source": [
    "def sp_block_cipher_decipher(ciphertext, permutation_key, substitution_key):\n",
    "    # Convert the permutation key to a list of integers\n",
    "    perm = [int(x) for x in permutation_key]\n",
    "    \n",
    "    # Split the ciphertext into blocks of size 4\n",
    "    blocks = [ciphertext[i:i+5] for i in range(0, len(ciphertext), 5)]\n",
    "    \n",
    "    # Inverse the permutation on each block\n",
    "    permuted_blocks = []\n",
    "    for block in blocks:\n",
    "        permuted_block = [None] * 5\n",
    "        for i in range(5):\n",
    "            permuted_block[perm[i]] = block[i]\n",
    "        permuted_blocks.append(''.join(permuted_block))\n",
    "    \n",
    "    # Decipher each block using the substitution key\n",
    "    deciphered_blocks = []\n",
    "    for block in permuted_blocks:\n",
    "        deciphered_block = ''\n",
    "        for c in block:\n",
    "            deciphered_block += substitution_key[c]\n",
    "        deciphered_blocks.append(deciphered_block)\n",
    "    \n",
    "    # Join the deciphered blocks into a single string\n",
    "    plaintext = ''.join(deciphered_blocks)\n",
    "    \n",
    "    return plaintext"
   ]
  },
  {
   "cell_type": "code",
   "execution_count": 65,
   "id": "588bbb1f",
   "metadata": {},
   "outputs": [
    {
     "name": "stdout",
     "output_type": "stream",
     "text": [
      "THE CIPHER TEXT IS \n",
      "\n",
      "qmnjvsa nv wewc flct vprj tj tvvplvl fv xja vqildhc xmlnvc nacyclpa fc gyt vfvw. fv wgqyp, pqq pqcs y wsq rx qmnjvafy cgv tlvhf cw tyl aeuq fv xja tkbv cqnsqs.  lhf avawnc cv eas fuqb qvq tc yllrqr xxwa cfy. psdc uqf avrqc gefq pyat trac xwv taa wwd dv eas flcbq. vd trawm vupq quw x decgqcwt, yq yafl vlqs yqklhq! snafq vml lhvqpawr nqg_vfusr_ec_wawy qp fn wgawdgf.\n",
      "\n",
      "THE CLEAN CIPHER IS \n",
      "\n",
      "qmnjvsanvwewcflctvprjtjtvvplvlfvxjavqildhcxmlnvcnacyclpafcgytvfvwfvwgqyppqqpqcsywsqrxqmnjvafycgvtlvhfcwtylaeuqfvxjatkbvcqnsqslhfavawnccveasfuqbqvqtcyllrqrxxwacfypsdcuqfavrqcgefqpyattracxwvtaawwddveasflcbqvdtrawmvupqquwxdecgqcwtyqyaflvlqsyqklhqsnafqvmllhvqpawrnqgvfusrecwawyqpfnwgawdgf\n",
      "\n",
      "\n",
      "The length of the cipher is 284\n",
      "\n",
      "\n"
     ]
    }
   ],
   "source": [
    "cipher = \"qmnjvsa nv wewc flct vprj tj tvvplvl fv xja vqildhc xmlnvc nacyclpa fc gyt vfvw. fv wgqyp, pqq pqcs y wsq rx qmnjvafy cgv tlvhf cw tyl aeuq fv xja tkbv cqnsqs.  lhf avawnc cv eas fuqb qvq tc yllrqr xxwa cfy. psdc uqf avrqc gefq pyat trac xwv taa wwd dv eas flcbq. vd trawm vupq quw x decgqcwt, yq yafl vlqs yqklhq! snafq vml lhvqpawr nqg_vfusr_ec_wawy qp fn wgawdgf.\"\n",
    "print(\"THE CIPHER TEXT IS \\n\")\n",
    "print(cipher)\n",
    "clean_cipher = \"\".join([c for c in cipher if c.isalpha()])\n",
    "print(\"\\nTHE CLEAN CIPHER IS \\n\")\n",
    "print(clean_cipher)\n",
    "print(\"\")\n",
    "print(\"\")\n",
    "print(\"The length of the cipher is \"+str(len(clean_cipher)))\n",
    "print(\"\")\n",
    "print(\"\")\n",
    "\n"
   ]
  },
  {
   "cell_type": "code",
   "execution_count": 66,
   "id": "d9cea683",
   "metadata": {},
   "outputs": [
    {
     "name": "stdout",
     "output_type": "stream",
     "text": [
      "\n",
      "THE DECIPHERED CLEAN PLAINTEXT IS : \n",
      "\n",
      "breakerofthiscodewillbeblessedbythesqueakyspiritresidingintheholegoaheadandfindawayofbreakingthespellonhimcastbytheeviljaffarthespiritofthecavemanisalwayswithyoufindthemagicwandthatwillletyououtofthecavesitwouldmakeyouamagiciannolessthanjaffarspeakthepasswordthemagicofwandtogothrough\n"
     ]
    }
   ],
   "source": [
    "ciphertext = clean_cipher[:-4]\n",
    "permutation_key = '34102'\n",
    "substitution_key = {\n",
    "        'q':'a', \n",
    "        'j':'b', \n",
    "        'e':'c', \n",
    "        'p':'d', \n",
    "        'v':'e', \n",
    "        's':'f', \n",
    "        'g':'g', \n",
    "        'f':'h', \n",
    "        'c':'i', \n",
    "        'k':'j', \n",
    "        'm':'k', \n",
    "        't':'l', \n",
    "        'u':'m', \n",
    "        'y':'n', \n",
    "        'w':'o', \n",
    "        'h':'p', \n",
    "        'i':'q', \n",
    "        'n':'r', \n",
    "        'l':'s', \n",
    "        'a':'t', \n",
    "        'd':'u', \n",
    "        'b':'v', \n",
    "        'r':'w', \n",
    "        'x':'y', \n",
    "        '?':'z'}\n",
    "plaintext = sp_block_cipher_decipher(ciphertext, permutation_key, substitution_key)\n",
    "plaintext += \"ough\"\n",
    "print(\"\")\n",
    "print(\"THE DECIPHERED CLEAN PLAINTEXT IS : \\n\")\n",
    "print(plaintext)  # Output: ABCDEFG"
   ]
  },
  {
   "cell_type": "code",
   "execution_count": 67,
   "id": "c02d2e3d",
   "metadata": {},
   "outputs": [
    {
     "name": "stdout",
     "output_type": "stream",
     "text": [
      "\n",
      "\n",
      "THE DECIPHERED PLAINTEXT IS : \n",
      "\n",
      "breaker  of  this  code  will  be  blessed  by  the  squeaky  spirit  residing  in  the  hole.   go  ahead,   and  find  a  way  of  breaking  the  spell  on  him  cast  by  the  evil  jaffar.     the  spirit  of  the  cave  man  is  always  with  you.   find  the  magic  wand  that  will  let  you  out  of  the  caves.   it  would  make  you  a  magician,   no  less  than  jaffar!   speak  the  password  the_ magic_ of_ wand  to  go  through.\n"
     ]
    }
   ],
   "source": [
    "k = \"\"\n",
    "l = 0\n",
    "m = [\" \",\".\",\",\",\"!\",\":\",\"_\"]\n",
    "list_of_words = []\n",
    "for i in cipher:\n",
    "    \n",
    "    if (i not in m):\n",
    "        if (l < len(plaintext)):\n",
    "            k += plaintext[l]\n",
    "        l += 1 \n",
    "    else:\n",
    "        list_of_words.append(k)\n",
    "        k = \" \"\n",
    "    if (i in m):\n",
    "        list_of_words.append(i)   \n",
    "print(\"\\n\")    \n",
    "print(\"THE DECIPHERED PLAINTEXT IS : \\n\")\n",
    "print(\"\".join(list_of_words))     "
   ]
  },
  {
   "cell_type": "code",
   "execution_count": null,
   "id": "4c72bb60",
   "metadata": {},
   "outputs": [],
   "source": []
  }
 ],
 "metadata": {
  "kernelspec": {
   "display_name": "Python 3 (ipykernel)",
   "language": "python",
   "name": "python3"
  },
  "language_info": {
   "codemirror_mode": {
    "name": "ipython",
    "version": 3
   },
   "file_extension": ".py",
   "mimetype": "text/x-python",
   "name": "python",
   "nbconvert_exporter": "python",
   "pygments_lexer": "ipython3",
   "version": "3.10.7"
  }
 },
 "nbformat": 4,
 "nbformat_minor": 5
}
